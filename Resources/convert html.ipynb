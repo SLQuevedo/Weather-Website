{
 "cells": [
  {
   "cell_type": "code",
   "execution_count": 1,
   "id": "62c90cf5",
   "metadata": {},
   "outputs": [],
   "source": [
    "# Python program to convert\n",
    "# CSV to HTML Table\n",
    " \n",
    " \n",
    "import pandas as pd\n",
    " \n",
    "# to read csv file named \"samplee\"\n",
    "a = pd.read_csv(\"cities.csv\")\n",
    " \n",
    "# to save as html file\n",
    "# named as \"Table\"\n",
    "a.to_html(\"Table.htm\")\n",
    " \n",
    "# assign it to a\n",
    "# variable (string)\n",
    "html_file = a.to_html()"
   ]
  },
  {
   "cell_type": "code",
   "execution_count": null,
   "id": "8c9938df",
   "metadata": {},
   "outputs": [],
   "source": []
  }
 ],
 "metadata": {
  "kernelspec": {
   "display_name": "PythonData",
   "language": "python",
   "name": "pythondata"
  },
  "language_info": {
   "codemirror_mode": {
    "name": "ipython",
    "version": 3
   },
   "file_extension": ".py",
   "mimetype": "text/x-python",
   "name": "python",
   "nbconvert_exporter": "python",
   "pygments_lexer": "ipython3",
   "version": "3.9.12"
  }
 },
 "nbformat": 4,
 "nbformat_minor": 5
}
